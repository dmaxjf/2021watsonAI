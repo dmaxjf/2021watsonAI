{
  "nbformat": 4,
  "nbformat_minor": 0,
  "metadata": {
    "kernelspec": {
      "display_name": "Python 3.7",
      "language": "python",
      "name": "python3"
    },
    "language_info": {
      "codemirror_mode": {
        "name": "ipython",
        "version": 3
      },
      "file_extension": ".py",
      "mimetype": "text/x-python",
      "name": "python",
      "nbconvert_exporter": "python",
      "pygments_lexer": "ipython3",
      "version": "3.7.10"
    },
    "colab": {
      "name": "Dropout test using fashion mnist dataset-full-2.ipynb",
      "provenance": [],
      "collapsed_sections": []
    }
  },
  "cells": [
    {
      "cell_type": "code",
      "metadata": {
        "id": "yTDwLZkW7zlk"
      },
      "source": [
        "import numpy as np\n",
        "from tensorflow import keras\n",
        "from tensorflow.keras import layers\n",
        "from tensorflow.keras.utils import to_categorical\n",
        "import matplotlib.pyplot as plt\n",
        "%matplotlib inline"
      ],
      "execution_count": 1,
      "outputs": []
    },
    {
      "cell_type": "code",
      "metadata": {
        "colab": {
          "base_uri": "https://localhost:8080/"
        },
        "id": "1sHhzKsE7zlm",
        "outputId": "90e106eb-7f80-4755-e6b8-6c23009740ce"
      },
      "source": [
        "from tensorflow.keras.datasets import fashion_mnist\n",
        "(train_X,train_Y), (test_X,test_Y) = fashion_mnist.load_data()"
      ],
      "execution_count": 2,
      "outputs": [
        {
          "output_type": "stream",
          "text": [
            "Downloading data from https://storage.googleapis.com/tensorflow/tf-keras-datasets/train-labels-idx1-ubyte.gz\n",
            "32768/29515 [=================================] - 0s 0us/step\n",
            "Downloading data from https://storage.googleapis.com/tensorflow/tf-keras-datasets/train-images-idx3-ubyte.gz\n",
            "26427392/26421880 [==============================] - 0s 0us/step\n",
            "Downloading data from https://storage.googleapis.com/tensorflow/tf-keras-datasets/t10k-labels-idx1-ubyte.gz\n",
            "8192/5148 [===============================================] - 0s 0us/step\n",
            "Downloading data from https://storage.googleapis.com/tensorflow/tf-keras-datasets/t10k-images-idx3-ubyte.gz\n",
            "4423680/4422102 [==============================] - 0s 0us/step\n"
          ],
          "name": "stdout"
        }
      ]
    },
    {
      "cell_type": "code",
      "metadata": {
        "colab": {
          "base_uri": "https://localhost:8080/"
        },
        "id": "E3fVSoc87zln",
        "outputId": "da4c2986-b4aa-40c3-eb81-0afa7400ae1e"
      },
      "source": [
        "print('Training data shape : ', train_X.shape, train_Y.shape)\n",
        "\n",
        "print('Testing data shape : ', test_X.shape, test_Y.shape)"
      ],
      "execution_count": 3,
      "outputs": [
        {
          "output_type": "stream",
          "text": [
            "Training data shape :  (60000, 28, 28) (60000,)\n",
            "Testing data shape :  (10000, 28, 28) (10000,)\n"
          ],
          "name": "stdout"
        }
      ]
    },
    {
      "cell_type": "code",
      "metadata": {
        "colab": {
          "base_uri": "https://localhost:8080/"
        },
        "id": "0Yjfo7hs7zlo",
        "outputId": "a66c1142-d103-4395-cb95-5384115bc068"
      },
      "source": [
        "# Find the unique numbers from the train labels\n",
        "classes = np.unique(train_Y)\n",
        "nClasses = len(classes)\n",
        "print('Total number of outputs : ', nClasses)\n",
        "print('Output classes : ', classes)"
      ],
      "execution_count": 4,
      "outputs": [
        {
          "output_type": "stream",
          "text": [
            "Total number of outputs :  10\n",
            "Output classes :  [0 1 2 3 4 5 6 7 8 9]\n"
          ],
          "name": "stdout"
        }
      ]
    },
    {
      "cell_type": "code",
      "metadata": {
        "colab": {
          "base_uri": "https://localhost:8080/",
          "height": 208
        },
        "id": "fL_PQ6X27zlo",
        "outputId": "b9aafcb7-6e60-4aa1-9723-2625d3746146"
      },
      "source": [
        "plt.figure(figsize=[5,5])\n",
        "\n",
        "# Display the first image in training data\n",
        "plt.subplot(121)\n",
        "plt.imshow(train_X[0,:,:], cmap='gray')\n",
        "plt.title(\"Ground Truth : {}\".format(train_Y[0]))\n",
        "\n",
        "# Display the first image in testing data\n",
        "plt.subplot(122)\n",
        "plt.imshow(test_X[0,:,:], cmap='gray')\n",
        "plt.title(\"Ground Truth : {}\".format(test_Y[0]))"
      ],
      "execution_count": 5,
      "outputs": [
        {
          "output_type": "execute_result",
          "data": {
            "text/plain": [
              "Text(0.5, 1.0, 'Ground Truth : 9')"
            ]
          },
          "metadata": {
            "tags": []
          },
          "execution_count": 5
        },
        {
          "output_type": "display_data",
          "data": {
            "image/png": "[encoded data removed]",
            "text/plain": [
              "<Figure size 360x360 with 2 Axes>"
            ]
          },
          "metadata": {
            "tags": [],
            "needs_background": "light"
          }
        }
      ]
    },
    {
      "cell_type": "code",
      "metadata": {
        "colab": {
          "base_uri": "https://localhost:8080/"
        },
        "id": "p4GoiSCp7zlo",
        "outputId": "f68f1b97-f39a-4bfe-d0a4-1ca9f4ef15f9"
      },
      "source": [
        "train_X = train_X.reshape(-1, 28,28, 1)\n",
        "test_X = test_X.reshape(-1, 28,28, 1)\n",
        "train_X.shape, test_X.shape"
      ],
      "execution_count": 6,
      "outputs": [
        {
          "output_type": "execute_result",
          "data": {
            "text/plain": [
              "((60000, 28, 28, 1), (10000, 28, 28, 1))"
            ]
          },
          "metadata": {
            "tags": []
          },
          "execution_count": 6
        }
      ]
    },
    {
      "cell_type": "code",
      "metadata": {
        "id": "m4mRc2Bw7zlp"
      },
      "source": [
        "train_X = train_X.astype('float32')\n",
        "test_X = test_X.astype('float32')\n",
        "train_X = train_X / 255.\n",
        "test_X = test_X / 255."
      ],
      "execution_count": 7,
      "outputs": []
    },
    {
      "cell_type": "code",
      "metadata": {
        "colab": {
          "base_uri": "https://localhost:8080/"
        },
        "id": "aikn9ldV7zlp",
        "outputId": "a7f61f47-e18e-4e5a-f28f-11565980851b"
      },
      "source": [
        "# Change the labels from categorical to one-hot encoding\n",
        "train_Y_one_hot = to_categorical(train_Y)\n",
        "test_Y_one_hot = to_categorical(test_Y)\n",
        "\n",
        "# Display the change for category label using one-hot encoding\n",
        "print('Original label:', train_Y[0])\n",
        "print('After conversion to one-hot:', train_Y_one_hot[0])"
      ],
      "execution_count": 8,
      "outputs": [
        {
          "output_type": "stream",
          "text": [
            "Original label: 9\n",
            "After conversion to one-hot: [0. 0. 0. 0. 0. 0. 0. 0. 0. 1.]\n"
          ],
          "name": "stdout"
        }
      ]
    },
    {
      "cell_type": "code",
      "metadata": {
        "id": "raoirUhl7zlq"
      },
      "source": [
        "from sklearn.model_selection import train_test_split\n",
        "train_X,valid_X,train_label,valid_label = train_test_split(train_X, train_Y_one_hot, test_size=0.2, random_state=13)"
      ],
      "execution_count": 9,
      "outputs": []
    },
    {
      "cell_type": "code",
      "metadata": {
        "colab": {
          "base_uri": "https://localhost:8080/"
        },
        "id": "Ww7EW2oI7zlq",
        "outputId": "2fbc61d6-43c8-4c09-fe83-4fb800c059f7"
      },
      "source": [
        "train_X.shape,valid_X.shape,train_label.shape,valid_label.shape"
      ],
      "execution_count": 10,
      "outputs": [
        {
          "output_type": "execute_result",
          "data": {
            "text/plain": [
              "((48000, 28, 28, 1), (12000, 28, 28, 1), (48000, 10), (12000, 10))"
            ]
          },
          "metadata": {
            "tags": []
          },
          "execution_count": 10
        }
      ]
    },
    {
      "cell_type": "code",
      "metadata": {
        "colab": {
          "base_uri": "https://localhost:8080/",
          "height": 71
        },
        "id": "ArJMkgJK7zlr",
        "outputId": "96059c1d-eed3-47ba-804c-ba3d1bc9ea54"
      },
      "source": [
        "\"\"\"\n",
        "model = keras.Sequential(\n",
        "    [\n",
        "        keras.Input(shape=input_shape),\n",
        "        layers.Conv2D(32, kernel_size=(3, 3), activation=\"relu\"),\n",
        "        layers.MaxPooling2D(pool_size=(2, 2)),\n",
        "        layers.Conv2D(64, kernel_size=(3, 3), activation=\"relu\"),\n",
        "        layers.MaxPooling2D(pool_size=(2, 2)),\n",
        "        layers.Flatten(),\n",
        "        layers.Dropout(0.5),\n",
        "        layers.Dense(num_classes, activation=\"softmax\"),\n",
        "    ]\n",
        ")\n",
        "\"\"\""
      ],
      "execution_count": 11,
      "outputs": [
        {
          "output_type": "execute_result",
          "data": {
            "application/vnd.google.colaboratory.intrinsic+json": {
              "type": "string"
            },
            "text/plain": [
              "'\\nmodel = keras.Sequential(\\n    [\\n        keras.Input(shape=input_shape),\\n        layers.Conv2D(32, kernel_size=(3, 3), activation=\"relu\"),\\n        layers.MaxPooling2D(pool_size=(2, 2)),\\n        layers.Conv2D(64, kernel_size=(3, 3), activation=\"relu\"),\\n        layers.MaxPooling2D(pool_size=(2, 2)),\\n        layers.Flatten(),\\n        layers.Dropout(0.5),\\n        layers.Dense(num_classes, activation=\"softmax\"),\\n    ]\\n)\\n'"
            ]
          },
          "metadata": {
            "tags": []
          },
          "execution_count": 11
        }
      ]
    },
    {
      "cell_type": "code",
      "metadata": {
        "id": "NuZ2MGRy7zlr"
      },
      "source": [
        "from tensorflow.keras.models import Sequential #,Input, Model\n",
        "from tensorflow.keras.layers import Dense, Dropout, Flatten, Activation, Conv2D, MaxPooling2D \n",
        "from tensorflow.keras.layers import BatchNormalization\n",
        "#from tensorflow.keras.layers.advanced_activations import LeakyReLU"
      ],
      "execution_count": 12,
      "outputs": []
    },
    {
      "cell_type": "code",
      "metadata": {
        "id": "vmnDCYkz7zlr"
      },
      "source": [
        "batch_size = 64 #=64\n",
        "epochs = 13\n",
        "num_classes = 10"
      ],
      "execution_count": 13,
      "outputs": []
    },
    {
      "cell_type": "code",
      "metadata": {
        "id": "DgcvXL7K7zls"
      },
      "source": [
        "fashion_model = Sequential()\n",
        "fashion_model.add(Conv2D(32, kernel_size=(3, 3),activation='linear',input_shape=(28,28,1),padding='same'))\n",
        "#fashion_model.add(Conv2D(32, kernel_size=(3, 3),input_shape=(28,28,1),padding='same'))\n",
        "#fashion_model.add(LeakyReLU(alpha=0.1))\n",
        "fashion_model.add(Activation('relu'))\n",
        "fashion_model.add(MaxPooling2D((2, 2),padding='same'))\n",
        "fashion_model.add(Conv2D(64, (3, 3), activation='linear',padding='same'))\n",
        "#fashion_model.add(LeakyReLU(alpha=0.1))\n",
        "fashion_model.add(Activation('relu'))\n",
        "fashion_model.add(MaxPooling2D(pool_size=(2, 2),padding='same'))\n",
        "fashion_model.add(Conv2D(128, (3, 3), activation='linear',padding='same'))\n",
        "#fashion_model.add(LeakyReLU(alpha=0.1))\n",
        "fashion_model.add(Activation('relu'))\n",
        "fashion_model.add(MaxPooling2D(pool_size=(2, 2),padding='same'))\n",
        "fashion_model.add(Flatten())\n",
        "fashion_model.add(Dense(128, activation='linear'))\n",
        "#fashion_model.add(LeakyReLU(alpha=0.1))\n",
        "fashion_model.add(Activation('relu'))\n",
        "fashion_model.add(Dense(num_classes, activation='softmax'))"
      ],
      "execution_count": 14,
      "outputs": []
    },
    {
      "cell_type": "code",
      "metadata": {
        "id": "gl6vCa6E7zls"
      },
      "source": [
        "fashion_model.compile(loss=keras.losses.categorical_crossentropy, optimizer=keras.optimizers.Adam(),metrics=['accuracy'])"
      ],
      "execution_count": 15,
      "outputs": []
    },
    {
      "cell_type": "code",
      "metadata": {
        "colab": {
          "base_uri": "https://localhost:8080/"
        },
        "id": "bJ5i3HfI7zls",
        "outputId": "0221b55c-9601-46a4-b268-9cef3e5a9870"
      },
      "source": [
        "fashion_model.summary()"
      ],
      "execution_count": 16,
      "outputs": [
        {
          "output_type": "stream",
          "text": [
            "Model: \"sequential\"\n",
            "_________________________________________________________________\n",
            "Layer (type)                 Output Shape              Param #   \n",
            "=================================================================\n",
            "conv2d (Conv2D)              (None, 28, 28, 32)        320       \n",
            "_________________________________________________________________\n",
            "activation (Activation)      (None, 28, 28, 32)        0         \n",
            "_________________________________________________________________\n",
            "max_pooling2d (MaxPooling2D) (None, 14, 14, 32)        0         \n",
            "_________________________________________________________________\n",
            "conv2d_1 (Conv2D)            (None, 14, 14, 64)        18496     \n",
            "_________________________________________________________________\n",
            "activation_1 (Activation)    (None, 14, 14, 64)        0         \n",
            "_________________________________________________________________\n",
            "max_pooling2d_1 (MaxPooling2 (None, 7, 7, 64)          0         \n",
            "_________________________________________________________________\n",
            "conv2d_2 (Conv2D)            (None, 7, 7, 128)         73856     \n",
            "_________________________________________________________________\n",
            "activation_2 (Activation)    (None, 7, 7, 128)         0         \n",
            "_________________________________________________________________\n",
            "max_pooling2d_2 (MaxPooling2 (None, 4, 4, 128)         0         \n",
            "_________________________________________________________________\n",
            "flatten (Flatten)            (None, 2048)              0         \n",
            "_________________________________________________________________\n",
            "dense (Dense)                (None, 128)               262272    \n",
            "_________________________________________________________________\n",
            "activation_3 (Activation)    (None, 128)               0         \n",
            "_________________________________________________________________\n",
            "dense_1 (Dense)              (None, 10)                1290      \n",
            "=================================================================\n",
            "Total params: 356,234\n",
            "Trainable params: 356,234\n",
            "Non-trainable params: 0\n",
            "_________________________________________________________________\n"
          ],
          "name": "stdout"
        }
      ]
    },
    {
      "cell_type": "code",
      "metadata": {
        "colab": {
          "base_uri": "https://localhost:8080/"
        },
        "id": "4oDWtO007zlt",
        "outputId": "87585d46-0f48-4011-aebd-32a41a2abefa"
      },
      "source": [
        "fashion_train = fashion_model.fit(train_X, train_label, batch_size=batch_size,epochs=epochs,verbose=1,validation_data=(valid_X, valid_label))"
      ],
      "execution_count": 17,
      "outputs": [
        {
          "output_type": "stream",
          "text": [
            "Epoch 1/13\n",
            "750/750 [==============================] - 86s 114ms/step - loss: 0.6982 - accuracy: 0.7404 - val_loss: 0.3564 - val_accuracy: 0.8760\n",
            "Epoch 2/13\n",
            "750/750 [==============================] - 86s 114ms/step - loss: 0.3062 - accuracy: 0.8892 - val_loss: 0.2852 - val_accuracy: 0.8963\n",
            "Epoch 3/13\n",
            "750/750 [==============================] - 85s 114ms/step - loss: 0.2505 - accuracy: 0.9059 - val_loss: 0.2550 - val_accuracy: 0.9088\n",
            "Epoch 4/13\n",
            "750/750 [==============================] - 84s 112ms/step - loss: 0.2149 - accuracy: 0.9225 - val_loss: 0.2467 - val_accuracy: 0.9113\n",
            "Epoch 5/13\n",
            "750/750 [==============================] - 85s 113ms/step - loss: 0.1901 - accuracy: 0.9297 - val_loss: 0.2331 - val_accuracy: 0.9162\n",
            "Epoch 6/13\n",
            "750/750 [==============================] - 86s 115ms/step - loss: 0.1667 - accuracy: 0.9378 - val_loss: 0.2345 - val_accuracy: 0.9158\n",
            "Epoch 7/13\n",
            "750/750 [==============================] - 87s 116ms/step - loss: 0.1447 - accuracy: 0.9471 - val_loss: 0.2314 - val_accuracy: 0.9189\n",
            "Epoch 8/13\n",
            "750/750 [==============================] - 85s 114ms/step - loss: 0.1239 - accuracy: 0.9554 - val_loss: 0.2372 - val_accuracy: 0.9175\n",
            "Epoch 9/13\n",
            "750/750 [==============================] - 85s 113ms/step - loss: 0.1041 - accuracy: 0.9620 - val_loss: 0.2575 - val_accuracy: 0.9203\n",
            "Epoch 10/13\n",
            "750/750 [==============================] - 85s 113ms/step - loss: 0.0921 - accuracy: 0.9662 - val_loss: 0.2702 - val_accuracy: 0.9187\n",
            "Epoch 11/13\n",
            "750/750 [==============================] - 85s 113ms/step - loss: 0.0784 - accuracy: 0.9717 - val_loss: 0.2619 - val_accuracy: 0.9225\n",
            "Epoch 12/13\n",
            "750/750 [==============================] - 85s 113ms/step - loss: 0.0651 - accuracy: 0.9758 - val_loss: 0.2851 - val_accuracy: 0.9206\n",
            "Epoch 13/13\n",
            "750/750 [==============================] - 85s 114ms/step - loss: 0.0521 - accuracy: 0.9800 - val_loss: 0.2967 - val_accuracy: 0.9228\n"
          ],
          "name": "stdout"
        }
      ]
    },
    {
      "cell_type": "code",
      "metadata": {
        "colab": {
          "base_uri": "https://localhost:8080/"
        },
        "id": "jJYDMsOL7zlt",
        "outputId": "a5692546-566b-4dba-c599-3ce83d39bfdd"
      },
      "source": [
        "test_eval = fashion_model.evaluate(test_X, test_Y_one_hot, verbose=0)\n",
        "print('Test loss:', test_eval[0])\n",
        "print('Test accuracy:', test_eval[1])"
      ],
      "execution_count": 18,
      "outputs": [
        {
          "output_type": "stream",
          "text": [
            "Test loss: 0.31395241618156433\n",
            "Test accuracy: 0.9180999994277954\n"
          ],
          "name": "stdout"
        }
      ]
    },
    {
      "cell_type": "code",
      "metadata": {
        "colab": {
          "base_uri": "https://localhost:8080/",
          "height": 545
        },
        "id": "1Ljj-ZfX7zlt",
        "outputId": "d6bda41d-dcfa-4032-bec6-1dd0f09b98ce"
      },
      "source": [
        "accuracy = fashion_train.history['accuracy']\n",
        "val_accuracy = fashion_train.history['val_accuracy']\n",
        "loss = fashion_train.history['loss']\n",
        "val_loss = fashion_train.history['val_loss']\n",
        "epochs = range(len(accuracy))\n",
        "plt.plot(epochs, accuracy, 'bo', label='Training accuracy')\n",
        "plt.plot(epochs, val_accuracy, 'b', label='Validation accuracy')\n",
        "plt.title('Training and validation accuracy')\n",
        "plt.legend()\n",
        "plt.figure()\n",
        "plt.plot(epochs, loss, 'bo', label='Training loss')\n",
        "plt.plot(epochs, val_loss, 'b', label='Validation loss')\n",
        "plt.title('Training and validation loss')\n",
        "plt.legend()\n",
        "plt.show()"
      ],
      "execution_count": 19,
      "outputs": [
        {
          "output_type": "display_data",
          "data": {
            "image/png": "[encoded data removed]",
            "text/plain": [
              "<Figure size 432x288 with 1 Axes>"
            ]
          },
          "metadata": {
            "tags": [],
            "needs_background": "light"
          }
        },
        {
          "output_type": "display_data",
          "data": {
            "image/png": "[encoded data removed]",
            "text/plain": [
              "<Figure size 432x288 with 1 Axes>"
            ]
          },
          "metadata": {
            "tags": [],
            "needs_background": "light"
          }
        }
      ]
    },
    {
      "cell_type": "code",
      "metadata": {
        "colab": {
          "base_uri": "https://localhost:8080/"
        },
        "id": "hj1uvOYP7zlu",
        "outputId": "991a21c4-b88e-4d48-b2ab-456ede7556b1"
      },
      "source": [
        "fashion_model.save(\"fashion_model_Nodropout.py\")"
      ],
      "execution_count": 20,
      "outputs": [
        {
          "output_type": "stream",
          "text": [
            "INFO:tensorflow:Assets written to: fashion_model_Nodropout.py/assets\n"
          ],
          "name": "stdout"
        }
      ]
    },
    {
      "cell_type": "code",
      "metadata": {
        "id": "mWuPpD-57zlu"
      },
      "source": [
        "batch_size = 64\n",
        "epochs = 13\n",
        "num_classes = 10"
      ],
      "execution_count": 21,
      "outputs": []
    },
    {
      "cell_type": "code",
      "metadata": {
        "id": "wosuKdbG7zlu"
      },
      "source": [
        "fashion_model2 = Sequential()\n",
        "fashion_model2.add(Conv2D(32, kernel_size=(3, 3),activation='linear',padding='same',input_shape=(28,28,1)))\n",
        "#fashion_model2.add(LeakyReLU(alpha=0.1))\n",
        "fashion_model.add(Activation('relu'))\n",
        "fashion_model2.add(MaxPooling2D((2, 2),padding='same'))\n",
        "fashion_model2.add(Dropout(0.25))\n",
        "fashion_model2.add(Conv2D(64, (3, 3), activation='linear',padding='same'))\n",
        "#fashion_model2.add(LeakyReLU(alpha=0.1))\n",
        "fashion_model.add(Activation('relu'))\n",
        "fashion_model2.add(MaxPooling2D(pool_size=(2, 2),padding='same'))\n",
        "fashion_model2.add(Dropout(0.25))\n",
        "fashion_model2.add(Conv2D(128, (3, 3), activation='linear',padding='same'))\n",
        "#fashion_model2.add(LeakyReLU(alpha=0.1))\n",
        "fashion_model.add(Activation('relu'))\n",
        "fashion_model2.add(MaxPooling2D(pool_size=(2, 2),padding='same'))\n",
        "fashion_model2.add(Dropout(0.4))\n",
        "fashion_model2.add(Flatten())\n",
        "fashion_model2.add(Dense(128, activation='linear'))\n",
        "#fashion_model2.add(LeakyReLU(alpha=0.1))\n",
        "fashion_model.add(Activation('relu'))\n",
        "fashion_model2.add(Dropout(0.3))\n",
        "fashion_model2.add(Dense(num_classes, activation='softmax'))"
      ],
      "execution_count": 22,
      "outputs": []
    },
    {
      "cell_type": "code",
      "metadata": {
        "colab": {
          "base_uri": "https://localhost:8080/"
        },
        "id": "2kQ6TBQf7zlv",
        "outputId": "ccecadce-8aac-44e4-eb41-1377ed316ac2"
      },
      "source": [
        "fashion_model2.summary()"
      ],
      "execution_count": 23,
      "outputs": [
        {
          "output_type": "stream",
          "text": [
            "Model: \"sequential_1\"\n",
            "_________________________________________________________________\n",
            "Layer (type)                 Output Shape              Param #   \n",
            "=================================================================\n",
            "conv2d_3 (Conv2D)            (None, 28, 28, 32)        320       \n",
            "_________________________________________________________________\n",
            "max_pooling2d_3 (MaxPooling2 (None, 14, 14, 32)        0         \n",
            "_________________________________________________________________\n",
            "dropout (Dropout)            (None, 14, 14, 32)        0         \n",
            "_________________________________________________________________\n",
            "conv2d_4 (Conv2D)            (None, 14, 14, 64)        18496     \n",
            "_________________________________________________________________\n",
            "max_pooling2d_4 (MaxPooling2 (None, 7, 7, 64)          0         \n",
            "_________________________________________________________________\n",
            "dropout_1 (Dropout)          (None, 7, 7, 64)          0         \n",
            "_________________________________________________________________\n",
            "conv2d_5 (Conv2D)            (None, 7, 7, 128)         73856     \n",
            "_________________________________________________________________\n",
            "max_pooling2d_5 (MaxPooling2 (None, 4, 4, 128)         0         \n",
            "_________________________________________________________________\n",
            "dropout_2 (Dropout)          (None, 4, 4, 128)         0         \n",
            "_________________________________________________________________\n",
            "flatten_1 (Flatten)          (None, 2048)              0         \n",
            "_________________________________________________________________\n",
            "dense_2 (Dense)              (None, 128)               262272    \n",
            "_________________________________________________________________\n",
            "dropout_3 (Dropout)          (None, 128)               0         \n",
            "_________________________________________________________________\n",
            "dense_3 (Dense)              (None, 10)                1290      \n",
            "=================================================================\n",
            "Total params: 356,234\n",
            "Trainable params: 356,234\n",
            "Non-trainable params: 0\n",
            "_________________________________________________________________\n"
          ],
          "name": "stdout"
        }
      ]
    },
    {
      "cell_type": "code",
      "metadata": {
        "id": "Z0I53-Ar7zlv"
      },
      "source": [
        "fashion_model2.compile(loss=keras.losses.categorical_crossentropy, optimizer=keras.optimizers.Adam(),metrics=['accuracy'])"
      ],
      "execution_count": 24,
      "outputs": []
    },
    {
      "cell_type": "code",
      "metadata": {
        "colab": {
          "base_uri": "https://localhost:8080/"
        },
        "id": "qISWI2S_7zlv",
        "outputId": "bc928f3d-c1a9-4959-840f-fc70643b1e85"
      },
      "source": [
        "fashion_train_dropout = fashion_model2.fit(train_X, train_label, batch_size=batch_size,epochs=epochs,verbose=1,validation_data=(valid_X, valid_label))"
      ],
      "execution_count": 25,
      "outputs": [
        {
          "output_type": "stream",
          "text": [
            "Epoch 1/13\n",
            "750/750 [==============================] - 90s 119ms/step - loss: 0.7450 - accuracy: 0.7335 - val_loss: 0.3894 - val_accuracy: 0.8676\n",
            "Epoch 2/13\n",
            "750/750 [==============================] - 88s 117ms/step - loss: 0.3875 - accuracy: 0.8611 - val_loss: 0.3137 - val_accuracy: 0.8910\n",
            "Epoch 3/13\n",
            "750/750 [==============================] - 88s 117ms/step - loss: 0.3468 - accuracy: 0.8774 - val_loss: 0.3101 - val_accuracy: 0.8890\n",
            "Epoch 4/13\n",
            "750/750 [==============================] - 88s 117ms/step - loss: 0.3248 - accuracy: 0.8838 - val_loss: 0.3075 - val_accuracy: 0.8905\n",
            "Epoch 5/13\n",
            "750/750 [==============================] - 88s 117ms/step - loss: 0.3071 - accuracy: 0.8916 - val_loss: 0.2923 - val_accuracy: 0.8991\n",
            "Epoch 6/13\n",
            "750/750 [==============================] - 87s 117ms/step - loss: 0.3012 - accuracy: 0.8923 - val_loss: 0.2831 - val_accuracy: 0.8987\n",
            "Epoch 7/13\n",
            "750/750 [==============================] - 87s 117ms/step - loss: 0.2898 - accuracy: 0.8957 - val_loss: 0.2729 - val_accuracy: 0.9011\n",
            "Epoch 8/13\n",
            "750/750 [==============================] - 89s 119ms/step - loss: 0.2754 - accuracy: 0.9000 - val_loss: 0.2914 - val_accuracy: 0.8969\n",
            "Epoch 9/13\n",
            "750/750 [==============================] - 88s 117ms/step - loss: 0.2734 - accuracy: 0.9032 - val_loss: 0.2630 - val_accuracy: 0.9087\n",
            "Epoch 10/13\n",
            "750/750 [==============================] - 89s 118ms/step - loss: 0.2636 - accuracy: 0.9050 - val_loss: 0.2675 - val_accuracy: 0.9066\n",
            "Epoch 11/13\n",
            "750/750 [==============================] - 88s 118ms/step - loss: 0.2607 - accuracy: 0.9050 - val_loss: 0.2486 - val_accuracy: 0.9133\n",
            "Epoch 12/13\n",
            "750/750 [==============================] - 89s 119ms/step - loss: 0.2631 - accuracy: 0.9050 - val_loss: 0.2437 - val_accuracy: 0.9137\n",
            "Epoch 13/13\n",
            "750/750 [==============================] - 89s 119ms/step - loss: 0.2436 - accuracy: 0.9108 - val_loss: 0.2431 - val_accuracy: 0.9146\n"
          ],
          "name": "stdout"
        }
      ]
    },
    {
      "cell_type": "code",
      "metadata": {
        "colab": {
          "base_uri": "https://localhost:8080/"
        },
        "id": "KQBmrEdX7zlv",
        "outputId": "30dbd800-9241-4742-de01-74f30bd0c2d8"
      },
      "source": [
        "fashion_model2.save(\"fashion_model_dropout.py\")"
      ],
      "execution_count": 26,
      "outputs": [
        {
          "output_type": "stream",
          "text": [
            "INFO:tensorflow:Assets written to: fashion_model_dropout.py/assets\n"
          ],
          "name": "stdout"
        }
      ]
    },
    {
      "cell_type": "code",
      "metadata": {
        "colab": {
          "base_uri": "https://localhost:8080/"
        },
        "id": "fzQiwTRZ7zlw",
        "outputId": "2cf15a54-89ee-461c-cedc-1475d89cfa0a"
      },
      "source": [
        "test_eval = fashion_model2.evaluate(test_X, test_Y_one_hot, verbose=1)\n",
        "print('Test loss:', test_eval[0])\n",
        "print('Test accuracy:', test_eval[1])"
      ],
      "execution_count": 27,
      "outputs": [
        {
          "output_type": "stream",
          "text": [
            "313/313 [==============================] - 5s 17ms/step - loss: 0.2613 - accuracy: 0.9065\n",
            "Test loss: 0.26130059361457825\n",
            "Test accuracy: 0.906499981880188\n"
          ],
          "name": "stdout"
        }
      ]
    },
    {
      "cell_type": "code",
      "metadata": {
        "colab": {
          "base_uri": "https://localhost:8080/",
          "height": 545
        },
        "id": "9fVi97Yp7zlw",
        "outputId": "48323f05-78ba-4179-df34-79176c992e59"
      },
      "source": [
        "accuracy = fashion_train_dropout.history['accuracy']\n",
        "val_accuracy = fashion_train_dropout.history['val_accuracy']\n",
        "loss = fashion_train_dropout.history['loss']\n",
        "val_loss = fashion_train_dropout.history['val_loss']\n",
        "epochs = range(len(accuracy))\n",
        "plt.plot(epochs, accuracy, 'bo', label='Training accuracy')\n",
        "plt.plot(epochs, val_accuracy, 'b', label='Validation accuracy')\n",
        "plt.title('Training and validation accuracy')\n",
        "plt.legend()\n",
        "plt.figure()\n",
        "plt.plot(epochs, loss, 'bo', label='Training loss')\n",
        "plt.plot(epochs, val_loss, 'b', label='Validation loss')\n",
        "plt.title('Training and validation loss')\n",
        "plt.legend()\n",
        "plt.show()"
      ],
      "execution_count": 30,
      "outputs": [
        {
          "output_type": "display_data",
          "data": {
            "image/png": "[encoded data removed]",
            "text/plain": [
              "<Figure size 432x288 with 1 Axes>"
            ]
          },
          "metadata": {
            "tags": [],
            "needs_background": "light"
          }
        },
        {
          "output_type": "display_data",
          "data": {
            "image/png": "[encoded data removed]",
            "text/plain": [
              "<Figure size 432x288 with 1 Axes>"
            ]
          },
          "metadata": {
            "tags": [],
            "needs_background": "light"
          }
        }
      ]
    },
    {
      "cell_type": "code",
      "metadata": {
        "colab": {
          "base_uri": "https://localhost:8080/"
        },
        "id": "BWtN6Gud7zlw",
        "outputId": "c0c8345f-b25a-4859-a8b8-01606831a747"
      },
      "source": [
        "predicted_classes = fashion_model2.predict(test_X)\n",
        "predicted_classes = np.argmax(np.round(predicted_classes),axis=1)\n",
        "predicted_classes.shape, test_Y.shape"
      ],
      "execution_count": 31,
      "outputs": [
        {
          "output_type": "execute_result",
          "data": {
            "text/plain": [
              "((10000,), (10000,))"
            ]
          },
          "metadata": {
            "tags": []
          },
          "execution_count": 31
        }
      ]
    },
    {
      "cell_type": "code",
      "metadata": {
        "colab": {
          "base_uri": "https://localhost:8080/",
          "height": 314
        },
        "id": "aq7MogwO7zlw",
        "outputId": "ef371397-85f2-4ab0-fdad-f59b7667a4ca"
      },
      "source": [
        "correct = np.where(predicted_classes==test_Y)[0]\n",
        "print (\"Found %d correct labels\" % len(correct))\n",
        "for i, correct in enumerate(correct[:9]):\n",
        "    plt.subplot(3,3,i+1)\n",
        "    plt.imshow(test_X[correct].reshape(28,28), cmap='gray', interpolation='none')\n",
        "    plt.title(\"Predicted {}, Class {}\".format(predicted_classes[correct], test_Y[correct]))\n",
        "    plt.tight_layout()"
      ],
      "execution_count": 32,
      "outputs": [
        {
          "output_type": "stream",
          "text": [
            "Found 9008 correct labels\n"
          ],
          "name": "stdout"
        },
        {
          "output_type": "display_data",
          "data": {
            "image/png": "[encoded data removed]",
            "text/plain": [
              "<Figure size 432x288 with 9 Axes>"
            ]
          },
          "metadata": {
            "tags": [],
            "needs_background": "light"
          }
        }
      ]
    },
    {
      "cell_type": "code",
      "metadata": {
        "colab": {
          "base_uri": "https://localhost:8080/",
          "height": 314
        },
        "id": "59fBmiqV7zlx",
        "outputId": "1fd640d3-7848-465a-b2c9-318d35c7335b"
      },
      "source": [
        "incorrect = np.where(predicted_classes!=test_Y)[0]\n",
        "print(\"Found %d incorrect labels\" % len(incorrect))\n",
        "for i, incorrect in enumerate(incorrect[:9]):\n",
        "    plt.subplot(3,3,i+1)\n",
        "    plt.imshow(test_X[incorrect].reshape(28,28), cmap='gray', interpolation='none')\n",
        "    plt.title(\"Predicted {}, Class {}\".format(predicted_classes[incorrect], test_Y[incorrect]))\n",
        "    plt.tight_layout()"
      ],
      "execution_count": 34,
      "outputs": [
        {
          "output_type": "stream",
          "text": [
            "Found 992 incorrect labels\n"
          ],
          "name": "stdout"
        },
        {
          "output_type": "display_data",
          "data": {
            "image/png": "[encoded data removed]",
            "text/plain": [
              "<Figure size 432x288 with 9 Axes>"
            ]
          },
          "metadata": {
            "tags": [],
            "needs_background": "light"
          }
        }
      ]
    },
    {
      "cell_type": "code",
      "metadata": {
        "colab": {
          "base_uri": "https://localhost:8080/"
        },
        "id": "rtJ6pcKp7zlx",
        "outputId": "d1591290-947d-4b3b-c53b-f780bec6746c"
      },
      "source": [
        "from sklearn.metrics import classification_report\n",
        "target_names = [\"Class {}\".format(i) for i in range(num_classes)]\n",
        "print(classification_report(test_Y, predicted_classes, target_names=target_names))"
      ],
      "execution_count": 35,
      "outputs": [
        {
          "output_type": "stream",
          "text": [
            "              precision    recall  f1-score   support\n",
            "\n",
            "     Class 0       0.75      0.86      0.80      1000\n",
            "     Class 1       0.99      0.98      0.99      1000\n",
            "     Class 2       0.85      0.84      0.85      1000\n",
            "     Class 3       0.89      0.93      0.91      1000\n",
            "     Class 4       0.89      0.80      0.84      1000\n",
            "     Class 5       0.98      0.98      0.98      1000\n",
            "     Class 6       0.76      0.71      0.74      1000\n",
            "     Class 7       0.97      0.96      0.96      1000\n",
            "     Class 8       0.99      0.97      0.98      1000\n",
            "     Class 9       0.96      0.97      0.97      1000\n",
            "\n",
            "    accuracy                           0.90     10000\n",
            "   macro avg       0.90      0.90      0.90     10000\n",
            "weighted avg       0.90      0.90      0.90     10000\n",
            "\n"
          ],
          "name": "stdout"
        }
      ]
    }
  ]
}