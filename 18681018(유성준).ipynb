{
  "nbformat": 4,
  "nbformat_minor": 0,
  "metadata": {
    "colab": {
      "name": "bigDatafinalTest.ipynb",
      "provenance": [],
      "collapsed_sections": [],
      "toc_visible": true
    },
    "kernelspec": {
      "display_name": "Python 3",
      "language": "python",
      "name": "python3"
    },
    "language_info": {
      "codemirror_mode": {
        "name": "ipython",
        "version": 3
      },
      "file_extension": ".py",
      "mimetype": "text/x-python",
      "name": "python",
      "nbconvert_exporter": "python",
      "pygments_lexer": "ipython3",
      "version": "3.7.9"
    }
  },
  "cells": [
    {
      "cell_type": "markdown",
      "metadata": {
        "id": "F_YHvLkqjCrc"
      },
      "source": [
        "#IBM 왓슨 빅데이터 과정 기말고사\n",
        "### 일자 : 2021년 6월 9일"
      ]
    },
    {
      "cell_type": "markdown",
      "metadata": {
        "id": "kb_TX0mojY_5"
      },
      "source": [
        "##이름 : 'YOUR NAME'"
      ]
    },
    {
      "cell_type": "markdown",
      "metadata": {
        "id": "yIe4C3EfkTDV"
      },
      "source": [
        "#문제 1 : Support Vector Machine(10점)\n",
        "### sklearn의 Support Vector Machine API를 사용하여 iris dataset을 분석하는 코드입니다.\n",
        "### your_code_here부분을 완성하십시오."
      ]
    },
    {
      "cell_type": "code",
      "metadata": {
        "id": "SSeVjfeCnImK"
      },
      "source": [
        "from sklearn.svm import SVC\n",
        "import numpy as np\n",
        "import matplotlib.pyplot as plt\n",
        "from sklearn import svm, datasets"
      ],
      "execution_count": 17,
      "outputs": []
    },
    {
      "cell_type": "code",
      "metadata": {
        "id": "ZnZNYkp_nLd1"
      },
      "source": [
        "iris = datasets.load_iris()# Select 2 features / variables"
      ],
      "execution_count": 18,
      "outputs": []
    },
    {
      "cell_type": "markdown",
      "metadata": {
        "id": "ZIToU1T00nlk"
      },
      "source": [
        "###  datasets.load_iris()가 return해주는 값들에 대하여는 아래 링크를 참고하시오\n",
        "https://scikit-learn.org/stable/modules/generated/sklearn.datasets.load_iris.html"
      ]
    },
    {
      "cell_type": "code",
      "metadata": {
        "colab": {
          "base_uri": "https://localhost:8080/"
        },
        "id": "utigxm-xo27w",
        "outputId": "5166126a-0598-4d45-d48b-1dae46b12a93"
      },
      "source": [
        "print(iris.feature_names)\n",
        "print(iris.target_names)"
      ],
      "execution_count": 19,
      "outputs": [
        {
          "output_type": "stream",
          "text": [
            "['sepal length (cm)', 'sepal width (cm)', 'petal length (cm)', 'petal width (cm)']\n",
            "['setosa' 'versicolor' 'virginica']\n"
          ],
          "name": "stdout"
        }
      ]
    },
    {
      "cell_type": "code",
      "metadata": {
        "colab": {
          "base_uri": "https://localhost:8080/"
        },
        "id": "0ho5hxMLwqj5",
        "outputId": "24db1e23-12af-475d-917c-dad0576ea35f"
      },
      "source": [
        "print(iris.target_names)"
      ],
      "execution_count": 20,
      "outputs": [
        {
          "output_type": "stream",
          "text": [
            "['setosa' 'versicolor' 'virginica']\n"
          ],
          "name": "stdout"
        }
      ]
    },
    {
      "cell_type": "code",
      "metadata": {
        "colab": {
          "base_uri": "https://localhost:8080/"
        },
        "id": "13mFriBQo9bd",
        "outputId": "0d8594e1-5576-4cde-b1df-5e6614a2f710"
      },
      "source": [
        "print(iris.data[0:5])"
      ],
      "execution_count": 21,
      "outputs": [
        {
          "output_type": "stream",
          "text": [
            "[[5.1 3.5 1.4 0.2]\n",
            " [4.9 3.  1.4 0.2]\n",
            " [4.7 3.2 1.3 0.2]\n",
            " [4.6 3.1 1.5 0.2]\n",
            " [5.  3.6 1.4 0.2]]\n"
          ],
          "name": "stdout"
        }
      ]
    },
    {
      "cell_type": "code",
      "metadata": {
        "colab": {
          "base_uri": "https://localhost:8080/"
        },
        "id": "qttGGdB6pLna",
        "outputId": "7aac9d8c-ee70-4658-d62c-feffb89ee523"
      },
      "source": [
        "print(iris.target[0:5])"
      ],
      "execution_count": 22,
      "outputs": [
        {
          "output_type": "stream",
          "text": [
            "[0 0 0 0 0]\n"
          ],
          "name": "stdout"
        }
      ]
    },
    {
      "cell_type": "markdown",
      "metadata": {
        "id": "S6ksXeO9wyTN"
      },
      "source": [
        "##Q1-1. 데이터 전처리(3점)"
      ]
    },
    {
      "cell_type": "code",
      "metadata": {
        "id": "S_a1CPqSw-Ls"
      },
      "source": [
        "X = iris.data[0:2] # iris.data 중 sepal length와 sepal width 두 개의 컬럼을 선택하여 slice한 후 변수X에 저정하는 코드를 입력하십시오."
      ],
      "execution_count": 30,
      "outputs": []
    },
    {
      "cell_type": "markdown",
      "metadata": {
        "id": "ICCLu7DV2mdz"
      },
      "source": [
        "###모델에 사용할 변수들을 다음과 같이 정의합니다."
      ]
    },
    {
      "cell_type": "code",
      "metadata": {
        "id": "odo6rL_ryG0p"
      },
      "source": [
        "y = iris.target\n",
        "feature_names = iris.feature_names[:2]\n",
        "classes = iris.target_names"
      ],
      "execution_count": 24,
      "outputs": []
    },
    {
      "cell_type": "markdown",
      "metadata": {
        "id": "EjmdPq_i0Hxc"
      },
      "source": [
        "## plot를 위한 함수들을 정의"
      ]
    },
    {
      "cell_type": "code",
      "metadata": {
        "id": "ypnrK__LrPUd"
      },
      "source": [
        "def grid(x, y, h=.02):\n",
        "    x_min, x_max = x.min() - 1, x.max() + 1\n",
        "    y_min, y_max = y.min() - 1, y.max() + 1\n",
        "    xx, yy = np.meshgrid(np.arange(x_min, x_max, h), np.arange(y_min, y_max, h))\n",
        "    return xx, yy\n",
        "def plot(ax, clf, xx, yy, **params):\n",
        "    Z = clf.predict(np.c_[xx.ravel(), yy.ravel()])\n",
        "    Z = Z.reshape(xx.shape)\n",
        "    out = ax.contourf(xx, yy, Z, **params)\n",
        "    return out"
      ],
      "execution_count": 25,
      "outputs": []
    },
    {
      "cell_type": "markdown",
      "metadata": {
        "id": "gMyxbWOqyc9R"
      },
      "source": [
        "##Q1-2. Support Vector machine으로 Classifier 오브젝트를 생성하시오.(3점)"
      ]
    },
    {
      "cell_type": "code",
      "metadata": {
        "id": "da_3qlACyaTw"
      },
      "source": [
        "# Support Vector Machine을 사용하는 classifier를 model이라는 이름으로 생성시키는 코드를 입력하시오.\n",
        "model = svm.SVC()"
      ],
      "execution_count": 31,
      "outputs": []
    },
    {
      "cell_type": "markdown",
      "metadata": {
        "id": "7oe-4PLKzNrH"
      },
      "source": [
        "##Q1-3. 위에서 생성한 모델을 사용하여 트레이닝을 수행하시오.(4점)"
      ]
    },
    {
      "cell_type": "code",
      "metadata": {
        "id": "5N_ZFQpByR1T"
      },
      "source": [
        "clf = X_train, X_test, Y_train, Y_test"
      ],
      "execution_count": null,
      "outputs": []
    },
    {
      "cell_type": "markdown",
      "metadata": {
        "id": "pajDZP9Dy31c"
      },
      "source": [
        "### 결과를 plot"
      ]
    },
    {
      "cell_type": "code",
      "metadata": {
        "id": "sMVme527y8gp"
      },
      "source": [
        "fig, ax = plt.subplots()\n",
        "# title for the plots\n",
        "title = 'Decision Surface'\n",
        "# Set-up grid for plotting.\n",
        "X0, X1 = X[:, 0], X[:, 1]\n",
        "xx, yy = grid(X0, X1)\n",
        "plot(ax, clf, xx, yy, cmap=plt.cm.coolwarm, alpha=0.8)\n",
        "ax.scatter(X0, X1, c=y, cmap=plt.cm.coolwarm, s=20, edgecolors=\"k\")\n",
        "ax.set_ylabel(\"{}\".format(feature_names[0]))\n",
        "ax.set_xlabel(\"{}\".format(feature_names[1]))\n",
        "ax.set_xticks(())\n",
        "ax.set_yticks(())\n",
        "ax.set_title(title)\n",
        "plt.show()"
      ],
      "execution_count": null,
      "outputs": []
    },
    {
      "cell_type": "markdown",
      "metadata": {
        "id": "kU9JKdNvrP2w"
      },
      "source": [
        "#문제 2:Kmeans 클러스터링 코딩(10점)\n",
        "### 다음은 Kmeans를 사용하는 코드입니다.  코드 중 your_code_here 부분을 완성하십시오. "
      ]
    },
    {
      "cell_type": "code",
      "metadata": {
        "id": "lA7eaguW_q2u"
      },
      "source": [
        "## Import Library\n",
        "import numpy as np\n",
        "import pandas as pd\n",
        "import seaborn as sns\n",
        "import matplotlib.pyplot as plt\n",
        "%matplotlib inline\n",
        "from mpl_toolkits.mplot3d import Axes3D\n",
        "from sklearn.cluster import KMeans\n",
        "from sklearn.preprocessing import StandardScaler\n",
        "import seaborn as sns\n",
        "sns.set_theme(style=\"darkgrid\")"
      ],
      "execution_count": null,
      "outputs": []
    },
    {
      "cell_type": "code",
      "metadata": {
        "id": "-kbeufgwJD7w"
      },
      "source": [
        "## 데이터 다운로드\n",
        "! wget --no-check-certificate 'https://docs.google.com/uc?export=download&id=1M-j_Fibx8Wq3IUzr1Nygab4VxEE0a7rn' -O Mall_Customers.csv "
      ],
      "execution_count": null,
      "outputs": []
    },
    {
      "cell_type": "code",
      "metadata": {
        "id": "jp9oMtYd_tRm"
      },
      "source": [
        "## Load Data\n",
        "df = pd.read_csv(\"Mall_Customers.csv\")\n",
        "df = df[['Age','Annual Income (k$)']]\n",
        "print('Total Row : ', len(df))\n",
        "df.head()"
      ],
      "execution_count": null,
      "outputs": []
    },
    {
      "cell_type": "code",
      "metadata": {
        "id": "aIex1CWIEn-E"
      },
      "source": [
        "# scatter plot 출력\n",
        "sns.relplot(x=\"Annual Income (k$)\", y=\"Age\", data=df)"
      ],
      "execution_count": null,
      "outputs": []
    },
    {
      "cell_type": "markdown",
      "metadata": {
        "id": "vY2JCC34Jc2J"
      },
      "source": [
        "## 위의 scatter plot을 보고 클러스터를 n 개로 하면 적절할지를 결정하시오."
      ]
    },
    {
      "cell_type": "code",
      "metadata": {
        "id": "T3-RffE6JuSp"
      },
      "source": [
        "print('# of clusters k = n')"
      ],
      "execution_count": null,
      "outputs": []
    },
    {
      "cell_type": "markdown",
      "metadata": {
        "id": "14hjrI7DKG9j"
      },
      "source": [
        "##Q2-1. 데이터프레임 df의 데이터를 StandScaler를 사용하여 정규화하십시오. 정규화된 데이터의 type은 float로 지정(힌트: astype(float) 사용)하십시오.(3점)"
      ]
    },
    {
      "cell_type": "code",
      "metadata": {
        "id": "6afRRMX3AX4B"
      },
      "source": [
        "## Feature Scaling\n",
        "df_scaled = your_code_here"
      ],
      "execution_count": null,
      "outputs": []
    },
    {
      "cell_type": "markdown",
      "metadata": {
        "id": "Zt2BeiuSKt3z"
      },
      "source": [
        "##Q2-2. df_scale에 대하여 KMeans 클러스터링을 수행하십시오.(3점)\n",
        "참고 : https://scikit-learn.org/stable/modules/generated/sklearn.cluster.KMeans.html "
      ]
    },
    {
      "cell_type": "code",
      "metadata": {
        "id": "pLzk11J7_FDE"
      },
      "source": [
        "## KMeans 클러스터링\n",
        "kmeans = your_code_here"
      ],
      "execution_count": null,
      "outputs": []
    },
    {
      "cell_type": "markdown",
      "metadata": {
        "id": "-KwWF-5bL1u2"
      },
      "source": [
        "##Q2-3. 위의 결과로 각 데이터 포인트에 부여된 label의 값을 넘파이 어레이 labels에 저장하시오.(4점)"
      ]
    },
    {
      "cell_type": "code",
      "metadata": {
        "id": "vPgfFsewLnPx"
      },
      "source": [
        "labels = your_code_here"
      ],
      "execution_count": null,
      "outputs": []
    },
    {
      "cell_type": "markdown",
      "metadata": {
        "id": "tUMFC6DnLuTs"
      },
      "source": [
        "## 클러스터 별로 라벨링된 결과를 plot"
      ]
    },
    {
      "cell_type": "code",
      "metadata": {
        "id": "aBlFhAM5AEab"
      },
      "source": [
        "new_dfa = pd.DataFrame(data = df_scaled, columns = ['Age','Annual Income (k$)'])\n",
        "new_dfa['label_kmeans'] = labels\n",
        "fig, ax = plt.subplots(figsize=(10,7))\n",
        "plt.scatter(new_dfa[\"Annual Income (k$)\"][new_dfa[\"label_kmeans\"] == 0], new_dfa[\"Age\"][new_dfa[\"label_kmeans\"] == 0], \n",
        "            color = \"blue\", s=100, edgecolor='green',linestyle='--')\n",
        "plt.scatter(new_dfa[\"Annual Income (k$)\"][new_dfa[\"label_kmeans\"] == 1], new_dfa[\"Age\"][new_dfa[\"label_kmeans\"] == 1], \n",
        "            color = \"red\", s=100, edgecolor='green',linestyle='--')\n",
        "plt.scatter(new_dfa[\"Annual Income (k$)\"][new_dfa[\"label_kmeans\"] == 2], new_dfa[\"Age\"][new_dfa[\"label_kmeans\"] == 2], \n",
        "            color = \"green\", s=100, edgecolor='green',linestyle='--')\n",
        "centers = kmeans.cluster_centers_\n",
        "plt.scatter(centers[:, 0], centers[:, 1], c='black', s=500);\n",
        "ax.set_xlabel('Annual Income (k$)')\n",
        "ax.set_ylabel('Age')\n",
        "plt.show()"
      ],
      "execution_count": null,
      "outputs": []
    },
    {
      "cell_type": "markdown",
      "metadata": {
        "id": "nXAXa6AXrqbU"
      },
      "source": [
        "#문제3 : R Shiny 시각화 문제(10점)\n",
        "### 다음 코드를 https://rstudio.cloud/ 에서 완성하여 수행하십시오.\n",
        "### 아래의 이미지를 참조하여 동일한 UI 화면이 되도록 your_code_here부분을 완성하십시오."
      ]
    },
    {
      "cell_type": "code",
      "metadata": {
        "id": "Gy3UWGE602Ci"
      },
      "source": [
        "! wget --quiet --no-check-certificate 'https://docs.google.com/uc?export=download&id=1UB3bCm6JZozoHoHIYWOm9d6qiMnImjRV' -O shinyUI.jpg \n",
        "Image(\"shinyUI.jpg\", width=500)"
      ],
      "execution_count": null,
      "outputs": []
    },
    {
      "cell_type": "markdown",
      "metadata": {
        "id": "7uOcheAB2Hhf"
      },
      "source": [
        "### 완성된 코드는 다시 아래 셀에 copy & paste하여 결과물로 제출해주십시오.(아래 셀에 완성된 코드를 제시하지 않으면 채점되지 않습니다.)"
      ]
    },
    {
      "cell_type": "code",
      "metadata": {
        "id": "DVsWQo8DVNsL"
      },
      "source": [
        "# R Shiny 코드입니다. rstudio.com의 UI에 copy & paste하여 수정하십시오.\n",
        "ui <- fluidPage(\n",
        "    titlePanel(\"Sum\"),\n",
        "    #number input form\n",
        "    sidebarLayout(\n",
        "      sidebarPanel(\n",
        "        #your_code_here(4점)\n",
        "      ),\n",
        "      \n",
        "      # Show result\n",
        "      mainPanel(\n",
        "        h3(\"결과\"),\n",
        "        textOutput(\"sum\")\n",
        "      \n",
        "      )\n",
        "    )\n",
        "  ) # fluidPage\n",
        "\n",
        "  \n",
        "  # Define server function  \n",
        "  server <- function(input,output,session) {\n",
        "    #observe the add click and perform a reactive expression\n",
        "    observeEvent( input$add,{\n",
        "      x <- as.numeric(input$one)\n",
        "      y <- as.numeric(input$two)\n",
        "      #reactive expression\n",
        "      n <- x+y\n",
        "      #your_code_here(3점)\n",
        "    })\n",
        "  }\n",
        "    \n",
        " \n",
        "\n",
        "  # Create Shiny object(3점)\n",
        "  #your_code_here"
      ],
      "execution_count": null,
      "outputs": []
    },
    {
      "cell_type": "markdown",
      "metadata": {
        "id": "LNlFFkFOijfn"
      },
      "source": [
        "#코딩 테스트를 완료하였습니다. 1학기-기말고사-yourname.ipynb로 다운로드받아서 LMS에 과제물로 제출해주십시오.\n",
        "#수고 하였습니다!"
      ]
    }
  ]
}